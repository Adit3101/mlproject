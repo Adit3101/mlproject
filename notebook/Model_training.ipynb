{
 "cells": [
  {
   "cell_type": "code",
   "id": "initial_id",
   "metadata": {
    "collapsed": true,
    "ExecuteTime": {
     "end_time": "2025-08-25T14:41:43.850762Z",
     "start_time": "2025-08-25T14:41:43.847454Z"
    }
   },
   "source": [
    "import numpy as np\n",
    "import pandas as pd\n",
    "import matplotlib.pyplot as plt\n",
    "import seaborn as sns\n",
    "\n",
    "from sklearn.metrics import mean_squared_error,r2_score\n",
    "from sklearn.neighbors import KNeighborsRegressor\n",
    "from sklearn.tree import DecisionTreeRegressor\n",
    "from sklearn.ensemble import RandomForestRegressor,AdaBoostRegressor\n",
    "from sklearn.svm import SVR\n",
    "from sklearn.linear_model import LinearRegression,Ridge,Lasso\n",
    "from sklearn.metrics import r2_score,mean_absolute_error,mean_squared_error\n",
    "from sklearn.model_selection import RandomizedSearchCV\n",
    "from catboost import CatBoostRegressor\n",
    "from xgboost import XGBRegressor\n",
    "import warnings\n",
    "\n"
   ],
   "outputs": [],
   "execution_count": 56
  },
  {
   "metadata": {
    "ExecuteTime": {
     "end_time": "2025-08-25T14:40:36.387854Z",
     "start_time": "2025-08-25T14:40:36.382216Z"
    }
   },
   "cell_type": "code",
   "source": "df=pd.read_csv('data/stud.csv')",
   "id": "401783e3fa9840b4",
   "outputs": [],
   "execution_count": 40
  },
  {
   "metadata": {
    "ExecuteTime": {
     "end_time": "2025-08-25T14:40:36.405411Z",
     "start_time": "2025-08-25T14:40:36.393897Z"
    }
   },
   "cell_type": "code",
   "source": [
    "df['total_score']=df['math_score']+df['reading_score']+df['writing_score']\n",
    "df['average_score']=df['total_score']/3\n",
    "df.head()"
   ],
   "id": "3a557dd751c3ba86",
   "outputs": [
    {
     "data": {
      "text/plain": [
       "   gender race_ethnicity parental_level_of_education         lunch  \\\n",
       "0  female        group B           bachelor's degree      standard   \n",
       "1  female        group C                some college      standard   \n",
       "2  female        group B             master's degree      standard   \n",
       "3    male        group A          associate's degree  free/reduced   \n",
       "4    male        group C                some college      standard   \n",
       "\n",
       "  test_preparation_course  math_score  reading_score  writing_score  \\\n",
       "0                    none          72             72             74   \n",
       "1               completed          69             90             88   \n",
       "2                    none          90             95             93   \n",
       "3                    none          47             57             44   \n",
       "4                    none          76             78             75   \n",
       "\n",
       "   total_score  average_score  \n",
       "0          218      72.666667  \n",
       "1          247      82.333333  \n",
       "2          278      92.666667  \n",
       "3          148      49.333333  \n",
       "4          229      76.333333  "
      ],
      "text/html": [
       "<div>\n",
       "<style scoped>\n",
       "    .dataframe tbody tr th:only-of-type {\n",
       "        vertical-align: middle;\n",
       "    }\n",
       "\n",
       "    .dataframe tbody tr th {\n",
       "        vertical-align: top;\n",
       "    }\n",
       "\n",
       "    .dataframe thead th {\n",
       "        text-align: right;\n",
       "    }\n",
       "</style>\n",
       "<table border=\"1\" class=\"dataframe\">\n",
       "  <thead>\n",
       "    <tr style=\"text-align: right;\">\n",
       "      <th></th>\n",
       "      <th>gender</th>\n",
       "      <th>race_ethnicity</th>\n",
       "      <th>parental_level_of_education</th>\n",
       "      <th>lunch</th>\n",
       "      <th>test_preparation_course</th>\n",
       "      <th>math_score</th>\n",
       "      <th>reading_score</th>\n",
       "      <th>writing_score</th>\n",
       "      <th>total_score</th>\n",
       "      <th>average_score</th>\n",
       "    </tr>\n",
       "  </thead>\n",
       "  <tbody>\n",
       "    <tr>\n",
       "      <th>0</th>\n",
       "      <td>female</td>\n",
       "      <td>group B</td>\n",
       "      <td>bachelor's degree</td>\n",
       "      <td>standard</td>\n",
       "      <td>none</td>\n",
       "      <td>72</td>\n",
       "      <td>72</td>\n",
       "      <td>74</td>\n",
       "      <td>218</td>\n",
       "      <td>72.666667</td>\n",
       "    </tr>\n",
       "    <tr>\n",
       "      <th>1</th>\n",
       "      <td>female</td>\n",
       "      <td>group C</td>\n",
       "      <td>some college</td>\n",
       "      <td>standard</td>\n",
       "      <td>completed</td>\n",
       "      <td>69</td>\n",
       "      <td>90</td>\n",
       "      <td>88</td>\n",
       "      <td>247</td>\n",
       "      <td>82.333333</td>\n",
       "    </tr>\n",
       "    <tr>\n",
       "      <th>2</th>\n",
       "      <td>female</td>\n",
       "      <td>group B</td>\n",
       "      <td>master's degree</td>\n",
       "      <td>standard</td>\n",
       "      <td>none</td>\n",
       "      <td>90</td>\n",
       "      <td>95</td>\n",
       "      <td>93</td>\n",
       "      <td>278</td>\n",
       "      <td>92.666667</td>\n",
       "    </tr>\n",
       "    <tr>\n",
       "      <th>3</th>\n",
       "      <td>male</td>\n",
       "      <td>group A</td>\n",
       "      <td>associate's degree</td>\n",
       "      <td>free/reduced</td>\n",
       "      <td>none</td>\n",
       "      <td>47</td>\n",
       "      <td>57</td>\n",
       "      <td>44</td>\n",
       "      <td>148</td>\n",
       "      <td>49.333333</td>\n",
       "    </tr>\n",
       "    <tr>\n",
       "      <th>4</th>\n",
       "      <td>male</td>\n",
       "      <td>group C</td>\n",
       "      <td>some college</td>\n",
       "      <td>standard</td>\n",
       "      <td>none</td>\n",
       "      <td>76</td>\n",
       "      <td>78</td>\n",
       "      <td>75</td>\n",
       "      <td>229</td>\n",
       "      <td>76.333333</td>\n",
       "    </tr>\n",
       "  </tbody>\n",
       "</table>\n",
       "</div>"
      ]
     },
     "execution_count": 41,
     "metadata": {},
     "output_type": "execute_result"
    }
   ],
   "execution_count": 41
  },
  {
   "metadata": {
    "ExecuteTime": {
     "end_time": "2025-08-25T14:40:36.418954Z",
     "start_time": "2025-08-25T14:40:36.413432Z"
    }
   },
   "cell_type": "code",
   "source": "X=df.drop(columns=['math_score'],axis=1)",
   "id": "177afbb480124480",
   "outputs": [],
   "execution_count": 42
  },
  {
   "metadata": {
    "ExecuteTime": {
     "end_time": "2025-08-25T14:40:36.436591Z",
     "start_time": "2025-08-25T14:40:36.427575Z"
    }
   },
   "cell_type": "code",
   "source": "X.head()",
   "id": "e769ac7c23e221e8",
   "outputs": [
    {
     "data": {
      "text/plain": [
       "   gender race_ethnicity parental_level_of_education         lunch  \\\n",
       "0  female        group B           bachelor's degree      standard   \n",
       "1  female        group C                some college      standard   \n",
       "2  female        group B             master's degree      standard   \n",
       "3    male        group A          associate's degree  free/reduced   \n",
       "4    male        group C                some college      standard   \n",
       "\n",
       "  test_preparation_course  reading_score  writing_score  total_score  \\\n",
       "0                    none             72             74          218   \n",
       "1               completed             90             88          247   \n",
       "2                    none             95             93          278   \n",
       "3                    none             57             44          148   \n",
       "4                    none             78             75          229   \n",
       "\n",
       "   average_score  \n",
       "0      72.666667  \n",
       "1      82.333333  \n",
       "2      92.666667  \n",
       "3      49.333333  \n",
       "4      76.333333  "
      ],
      "text/html": [
       "<div>\n",
       "<style scoped>\n",
       "    .dataframe tbody tr th:only-of-type {\n",
       "        vertical-align: middle;\n",
       "    }\n",
       "\n",
       "    .dataframe tbody tr th {\n",
       "        vertical-align: top;\n",
       "    }\n",
       "\n",
       "    .dataframe thead th {\n",
       "        text-align: right;\n",
       "    }\n",
       "</style>\n",
       "<table border=\"1\" class=\"dataframe\">\n",
       "  <thead>\n",
       "    <tr style=\"text-align: right;\">\n",
       "      <th></th>\n",
       "      <th>gender</th>\n",
       "      <th>race_ethnicity</th>\n",
       "      <th>parental_level_of_education</th>\n",
       "      <th>lunch</th>\n",
       "      <th>test_preparation_course</th>\n",
       "      <th>reading_score</th>\n",
       "      <th>writing_score</th>\n",
       "      <th>total_score</th>\n",
       "      <th>average_score</th>\n",
       "    </tr>\n",
       "  </thead>\n",
       "  <tbody>\n",
       "    <tr>\n",
       "      <th>0</th>\n",
       "      <td>female</td>\n",
       "      <td>group B</td>\n",
       "      <td>bachelor's degree</td>\n",
       "      <td>standard</td>\n",
       "      <td>none</td>\n",
       "      <td>72</td>\n",
       "      <td>74</td>\n",
       "      <td>218</td>\n",
       "      <td>72.666667</td>\n",
       "    </tr>\n",
       "    <tr>\n",
       "      <th>1</th>\n",
       "      <td>female</td>\n",
       "      <td>group C</td>\n",
       "      <td>some college</td>\n",
       "      <td>standard</td>\n",
       "      <td>completed</td>\n",
       "      <td>90</td>\n",
       "      <td>88</td>\n",
       "      <td>247</td>\n",
       "      <td>82.333333</td>\n",
       "    </tr>\n",
       "    <tr>\n",
       "      <th>2</th>\n",
       "      <td>female</td>\n",
       "      <td>group B</td>\n",
       "      <td>master's degree</td>\n",
       "      <td>standard</td>\n",
       "      <td>none</td>\n",
       "      <td>95</td>\n",
       "      <td>93</td>\n",
       "      <td>278</td>\n",
       "      <td>92.666667</td>\n",
       "    </tr>\n",
       "    <tr>\n",
       "      <th>3</th>\n",
       "      <td>male</td>\n",
       "      <td>group A</td>\n",
       "      <td>associate's degree</td>\n",
       "      <td>free/reduced</td>\n",
       "      <td>none</td>\n",
       "      <td>57</td>\n",
       "      <td>44</td>\n",
       "      <td>148</td>\n",
       "      <td>49.333333</td>\n",
       "    </tr>\n",
       "    <tr>\n",
       "      <th>4</th>\n",
       "      <td>male</td>\n",
       "      <td>group C</td>\n",
       "      <td>some college</td>\n",
       "      <td>standard</td>\n",
       "      <td>none</td>\n",
       "      <td>78</td>\n",
       "      <td>75</td>\n",
       "      <td>229</td>\n",
       "      <td>76.333333</td>\n",
       "    </tr>\n",
       "  </tbody>\n",
       "</table>\n",
       "</div>"
      ]
     },
     "execution_count": 43,
     "metadata": {},
     "output_type": "execute_result"
    }
   ],
   "execution_count": 43
  },
  {
   "metadata": {
    "ExecuteTime": {
     "end_time": "2025-08-25T14:40:36.447092Z",
     "start_time": "2025-08-25T14:40:36.443607Z"
    }
   },
   "cell_type": "code",
   "source": "y=df['math_score']",
   "id": "2acff7508044f3b7",
   "outputs": [],
   "execution_count": 44
  },
  {
   "metadata": {
    "ExecuteTime": {
     "end_time": "2025-08-25T14:40:36.463130Z",
     "start_time": "2025-08-25T14:40:36.456617Z"
    }
   },
   "cell_type": "code",
   "source": "y",
   "id": "15834abfa7761a21",
   "outputs": [
    {
     "data": {
      "text/plain": [
       "0      72\n",
       "1      69\n",
       "2      90\n",
       "3      47\n",
       "4      76\n",
       "       ..\n",
       "995    88\n",
       "996    62\n",
       "997    59\n",
       "998    68\n",
       "999    77\n",
       "Name: math_score, Length: 1000, dtype: int64"
      ]
     },
     "execution_count": 45,
     "metadata": {},
     "output_type": "execute_result"
    }
   ],
   "execution_count": 45
  },
  {
   "metadata": {
    "ExecuteTime": {
     "end_time": "2025-08-25T14:40:36.478104Z",
     "start_time": "2025-08-25T14:40:36.472651Z"
    }
   },
   "cell_type": "code",
   "source": [
    "numeric_features=X.select_dtypes(exclude=\"object\").columns\n",
    "print(\"Numeric features: \",numeric_features)\n",
    "categorical_features=X.select_dtypes(include=\"object\").columns\n",
    "print(\"Categorical features: \",categorical_features)"
   ],
   "id": "742ba82a7a2482b1",
   "outputs": [
    {
     "name": "stdout",
     "output_type": "stream",
     "text": [
      "Numeric features:  Index(['reading_score', 'writing_score', 'total_score', 'average_score'], dtype='object')\n",
      "Categorical features:  Index(['gender', 'race_ethnicity', 'parental_level_of_education', 'lunch',\n",
      "       'test_preparation_course'],\n",
      "      dtype='object')\n"
     ]
    }
   ],
   "execution_count": 46
  },
  {
   "metadata": {
    "ExecuteTime": {
     "end_time": "2025-08-25T14:40:36.490573Z",
     "start_time": "2025-08-25T14:40:36.486626Z"
    }
   },
   "cell_type": "code",
   "source": [
    "#Create column transformer with 3 types of transformations\n",
    "from sklearn.preprocessing import StandardScaler,OneHotEncoder\n",
    "from sklearn.compose import ColumnTransformer\n",
    "numeric_transformer=StandardScaler()\n",
    "oh_transformer=OneHotEncoder()\n",
    "preprocessor=ColumnTransformer(\n",
    "    [\n",
    "        ('OneHotEncoder',oh_transformer,categorical_features),\n",
    "        ('StandardScaler',numeric_transformer,numeric_features)\n",
    "    ])"
   ],
   "id": "6c6081ebb742b5a9",
   "outputs": [],
   "execution_count": 47
  },
  {
   "metadata": {
    "ExecuteTime": {
     "end_time": "2025-08-25T14:40:36.514734Z",
     "start_time": "2025-08-25T14:40:36.510888Z"
    }
   },
   "cell_type": "code",
   "source": [
    "print(\"Columns going into preprocessor:\")\n",
    "print(\"Numeric: \", numeric_features.tolist())\n",
    "print(\"Categorical: \", categorical_features.tolist())\n"
   ],
   "id": "1eeb7a5f4a6a1f58",
   "outputs": [
    {
     "name": "stdout",
     "output_type": "stream",
     "text": [
      "Columns going into preprocessor:\n",
      "Numeric:  ['reading_score', 'writing_score', 'total_score', 'average_score']\n",
      "Categorical:  ['gender', 'race_ethnicity', 'parental_level_of_education', 'lunch', 'test_preparation_course']\n"
     ]
    }
   ],
   "execution_count": 48
  },
  {
   "metadata": {
    "ExecuteTime": {
     "end_time": "2025-08-25T14:40:36.532390Z",
     "start_time": "2025-08-25T14:40:36.522870Z"
    }
   },
   "cell_type": "code",
   "source": "X_transformed = preprocessor.fit_transform(X)\n",
   "id": "c4e105fa1b6053c",
   "outputs": [],
   "execution_count": 49
  },
  {
   "metadata": {
    "ExecuteTime": {
     "end_time": "2025-08-25T14:40:36.551640Z",
     "start_time": "2025-08-25T14:40:36.545395Z"
    }
   },
   "cell_type": "code",
   "source": "X_transformed",
   "id": "d1a31858a3d9c4c3",
   "outputs": [
    {
     "data": {
      "text/plain": [
       "array([[ 1.        ,  0.        ,  0.        , ...,  0.39149181,\n",
       "         0.34357423,  0.34357423],\n",
       "       [ 1.        ,  0.        ,  0.        , ...,  1.31326868,\n",
       "         1.0219275 ,  1.0219275 ],\n",
       "       [ 1.        ,  0.        ,  0.        , ...,  1.64247471,\n",
       "         1.74706375,  1.74706375],\n",
       "       ...,\n",
       "       [ 1.        ,  0.        ,  0.        , ..., -0.20107904,\n",
       "        -0.19443008, -0.19443008],\n",
       "       [ 1.        ,  0.        ,  0.        , ...,  0.58901542,\n",
       "         0.46053169,  0.46053169],\n",
       "       [ 1.        ,  0.        ,  0.        , ...,  1.18158627,\n",
       "         1.06871048,  1.06871048]])"
      ]
     },
     "execution_count": 50,
     "metadata": {},
     "output_type": "execute_result"
    }
   ],
   "execution_count": 50
  },
  {
   "metadata": {
    "ExecuteTime": {
     "end_time": "2025-08-25T14:40:36.563268Z",
     "start_time": "2025-08-25T14:40:36.558288Z"
    }
   },
   "cell_type": "code",
   "source": "X.shape",
   "id": "19f926af5063f137",
   "outputs": [
    {
     "data": {
      "text/plain": [
       "(1000, 9)"
      ]
     },
     "execution_count": 51,
     "metadata": {},
     "output_type": "execute_result"
    }
   ],
   "execution_count": 51
  },
  {
   "metadata": {
    "ExecuteTime": {
     "end_time": "2025-08-25T14:40:36.574440Z",
     "start_time": "2025-08-25T14:40:36.568962Z"
    }
   },
   "cell_type": "code",
   "source": [
    "from sklearn.model_selection import train_test_split\n",
    "X_train,X_test,y_train,y_test=train_test_split(X_transformed,y,test_size=0.2,random_state=42)"
   ],
   "id": "ca872dd0dc29f577",
   "outputs": [],
   "execution_count": 52
  },
  {
   "metadata": {
    "ExecuteTime": {
     "end_time": "2025-08-25T14:40:36.583342Z",
     "start_time": "2025-08-25T14:40:36.579475Z"
    }
   },
   "cell_type": "code",
   "source": [
    "def evaluate_model(true,predicted):\n",
    "    mae=mean_absolute_error(true,predicted)\n",
    "    mse=mean_squared_error(true,predicted)\n",
    "    rmse=np.sqrt(mse)\n",
    "    r2_square=r2_score(true,predicted)\n",
    "    return mae,mse,rmse,r2_square"
   ],
   "id": "d0ab6f70dd1ee6ae",
   "outputs": [],
   "execution_count": 53
  },
  {
   "metadata": {
    "ExecuteTime": {
     "end_time": "2025-08-25T14:42:50.096445Z",
     "start_time": "2025-08-25T14:42:48.643947Z"
    }
   },
   "cell_type": "code",
   "source": [
    "models={\n",
    "    \"Linear Regression\":LinearRegression(),\n",
    "    \"Ridge\":Ridge(),\n",
    "    \"Lasso\":Lasso(),\n",
    "    \"KNeighborsRegressor\":KNeighborsRegressor(),\n",
    "    \"DecisionTreeRegressor\":DecisionTreeRegressor(),\n",
    "    \"RandomForestRegressor\":RandomForestRegressor(),\n",
    "    \"SVR\":SVR(),\n",
    "    \"AdaBoostRegressor\":AdaBoostRegressor(),\n",
    "    \"CatBoostRegressor\":CatBoostRegressor(verbose=False),\n",
    "    \"XGBRegressor\":XGBRegressor()\n",
    "}\n",
    "model_list=[]\n",
    "r2_list=[]\n",
    "for i in range(len(list(models))):\n",
    "    model=list(models.values())[i]\n",
    "    model.fit(X_train,y_train)\n",
    "    y_train_pred=model.predict(X_train)\n",
    "    y_test_pred=model.predict(X_test)\n",
    "    mae,mse,rmse,r2_square=evaluate_model(y_test,y_test_pred)\n",
    "    model_train_mae,model_train_mse,model_train_rmse,model_train_r2_square=evaluate_model(y_train,y_train_pred)\n",
    "    print(f\"Training performance of {list(models.keys())[i]}:\")\n",
    "    print(f\"MAE: {model_train_mae}\")\n",
    "    print(f\"MSE: {model_train_mse}\")\n",
    "    print(f\"RMSE: {model_train_rmse}\")\n",
    "    print(f\"R2 Square: {model_train_r2_square}\")\n",
    "    print(\"-\"*35)\n",
    "    print(f\"Testing performance of {list(models.keys())[i]}:\")\n",
    "    print(f\"Model: {list(models.keys())[i]}\")\n",
    "    print(f\"MAE: {mae}\")\n",
    "    print(f\"MSE: {mse}\")\n",
    "    print(f\"RMSE: {rmse}\")\n",
    "    print(f\"R2 Square: {r2_square}\")\n",
    "    print(\"=\"*35)\n",
    "    model_list.append(list(models.keys())[i])\n",
    "    r2_list.append(r2_square)"
   ],
   "id": "6dd0b4fcdd7780a1",
   "outputs": [
    {
     "name": "stdout",
     "output_type": "stream",
     "text": [
      "Training performance of Linear Regression:\n",
      "MAE: 1.310507258267535e-13\n",
      "MSE: 2.677425466756323e-26\n",
      "RMSE: 1.6362840421993741e-13\n",
      "R2 Square: 1.0\n",
      "-----------------------------------\n",
      "Testing performance of Linear Regression:\n",
      "Model: Linear Regression\n",
      "MAE: 1.3521628261514707e-13\n",
      "MSE: 2.915427957305123e-26\n",
      "RMSE: 1.7074624321797313e-13\n",
      "R2 Square: 1.0\n",
      "===================================\n",
      "Training performance of Ridge:\n",
      "MAE: 0.2724414942037947\n",
      "MSE: 0.11532820078628774\n",
      "RMSE: 0.3396000600504772\n",
      "R2 Square: 0.9994884476076249\n",
      "-----------------------------------\n",
      "Testing performance of Ridge:\n",
      "Model: Ridge\n",
      "MAE: 0.26842795106636336\n",
      "MSE: 0.1177835718904815\n",
      "RMSE: 0.34319611287204504\n",
      "R2 Square: 0.9995159680022122\n",
      "===================================\n",
      "Training performance of Lasso:\n",
      "MAE: 3.743856971975057\n",
      "MSE: 22.44920124636832\n",
      "RMSE: 4.738058805710238\n",
      "R2 Square: 0.9004238119887846\n",
      "-----------------------------------\n",
      "Testing performance of Lasso:\n",
      "Model: Lasso\n",
      "MAE: 3.7578731421148284\n",
      "MSE: 22.250793484434894\n",
      "RMSE: 4.717074674460315\n",
      "R2 Square: 0.9085602868908693\n",
      "===================================\n",
      "Training performance of KNeighborsRegressor:\n",
      "MAE: 3.38375\n",
      "MSE: 18.31055\n",
      "RMSE: 4.2790828456574665\n",
      "R2 Square: 0.9187813076563818\n",
      "-----------------------------------\n",
      "Testing performance of KNeighborsRegressor:\n",
      "Model: KNeighborsRegressor\n",
      "MAE: 4.045999999999999\n",
      "MSE: 26.8204\n",
      "RMSE: 5.1788415693087195\n",
      "R2 Square: 0.889781473043301\n",
      "===================================\n",
      "Training performance of DecisionTreeRegressor:\n",
      "MAE: 0.0\n",
      "MSE: 0.0\n",
      "RMSE: 0.0\n",
      "R2 Square: 1.0\n",
      "-----------------------------------\n",
      "Testing performance of DecisionTreeRegressor:\n",
      "Model: DecisionTreeRegressor\n",
      "MAE: 2.935\n",
      "MSE: 13.915\n",
      "RMSE: 3.7302814907188973\n",
      "R2 Square: 0.9428162591683023\n",
      "===================================\n",
      "Training performance of RandomForestRegressor:\n",
      "MAE: 0.8494500000000003\n",
      "MSE: 1.198718\n",
      "RMSE: 1.09485980837731\n",
      "R2 Square: 0.9946829391553635\n",
      "-----------------------------------\n",
      "Testing performance of RandomForestRegressor:\n",
      "Model: RandomForestRegressor\n",
      "MAE: 2.1212\n",
      "MSE: 8.558767\n",
      "RMSE: 2.925537044715038\n",
      "R2 Square: 0.9648277172858867\n",
      "===================================\n",
      "Training performance of SVR:\n",
      "MAE: 3.507426057789904\n",
      "MSE: 26.417969122498818\n",
      "RMSE: 5.13984135188031\n",
      "R2 Square: 0.8828198548649038\n",
      "-----------------------------------\n",
      "Testing performance of SVR:\n",
      "Model: SVR\n",
      "MAE: 4.004328026234367\n",
      "MSE: 50.12206274541463\n",
      "RMSE: 7.0796936900839595\n",
      "R2 Square: 0.7940232090561349\n",
      "===================================\n",
      "Training performance of AdaBoostRegressor:\n",
      "MAE: 3.1560331401124277\n",
      "MSE: 14.900736863932455\n",
      "RMSE: 3.8601472593584374\n",
      "R2 Square: 0.9339059524129565\n",
      "-----------------------------------\n",
      "Testing performance of AdaBoostRegressor:\n",
      "Model: AdaBoostRegressor\n",
      "MAE: 3.374994091273113\n",
      "MSE: 17.952064608229886\n",
      "RMSE: 4.236987680915521\n",
      "R2 Square: 0.9262259281386338\n",
      "===================================\n",
      "Training performance of CatBoostRegressor:\n",
      "MAE: 0.7701736447809344\n",
      "MSE: 0.8889126572927033\n",
      "RMSE: 0.9428216465974375\n",
      "R2 Square: 0.9960571187849079\n",
      "-----------------------------------\n",
      "Testing performance of CatBoostRegressor:\n",
      "Model: CatBoostRegressor\n",
      "MAE: 1.9234441468723011\n",
      "MSE: 7.762398206793355\n",
      "RMSE: 2.786108075217714\n",
      "R2 Square: 0.9681003976076388\n",
      "===================================\n",
      "Training performance of XGBRegressor:\n",
      "MAE: 0.08290822058916092\n",
      "MSE: 0.012558799237012863\n",
      "RMSE: 0.11206604854733151\n",
      "R2 Square: 0.999944269657135\n",
      "-----------------------------------\n",
      "Testing performance of XGBRegressor:\n",
      "Model: XGBRegressor\n",
      "MAE: 1.7551690340042114\n",
      "MSE: 5.572134494781494\n",
      "RMSE: 2.360536908159136\n",
      "R2 Square: 0.9771012663841248\n",
      "===================================\n"
     ]
    }
   ],
   "execution_count": 58
  },
  {
   "metadata": {
    "ExecuteTime": {
     "end_time": "2025-08-25T14:45:19.389815Z",
     "start_time": "2025-08-25T14:45:19.378293Z"
    }
   },
   "cell_type": "code",
   "source": "pd.DataFrame(list(zip(model_list,r2_list)),columns=['Model','R2']).sort_values(by='R2',ascending=False)",
   "id": "d7ac68a1bc4eb844",
   "outputs": [
    {
     "data": {
      "text/plain": [
       "                   Model        R2\n",
       "0      Linear Regression  1.000000\n",
       "1                  Ridge  0.999516\n",
       "9           XGBRegressor  0.977101\n",
       "8      CatBoostRegressor  0.968100\n",
       "5  RandomForestRegressor  0.964828\n",
       "4  DecisionTreeRegressor  0.942816\n",
       "7      AdaBoostRegressor  0.926226\n",
       "2                  Lasso  0.908560\n",
       "3    KNeighborsRegressor  0.889781\n",
       "6                    SVR  0.794023"
      ],
      "text/html": [
       "<div>\n",
       "<style scoped>\n",
       "    .dataframe tbody tr th:only-of-type {\n",
       "        vertical-align: middle;\n",
       "    }\n",
       "\n",
       "    .dataframe tbody tr th {\n",
       "        vertical-align: top;\n",
       "    }\n",
       "\n",
       "    .dataframe thead th {\n",
       "        text-align: right;\n",
       "    }\n",
       "</style>\n",
       "<table border=\"1\" class=\"dataframe\">\n",
       "  <thead>\n",
       "    <tr style=\"text-align: right;\">\n",
       "      <th></th>\n",
       "      <th>Model</th>\n",
       "      <th>R2</th>\n",
       "    </tr>\n",
       "  </thead>\n",
       "  <tbody>\n",
       "    <tr>\n",
       "      <th>0</th>\n",
       "      <td>Linear Regression</td>\n",
       "      <td>1.000000</td>\n",
       "    </tr>\n",
       "    <tr>\n",
       "      <th>1</th>\n",
       "      <td>Ridge</td>\n",
       "      <td>0.999516</td>\n",
       "    </tr>\n",
       "    <tr>\n",
       "      <th>9</th>\n",
       "      <td>XGBRegressor</td>\n",
       "      <td>0.977101</td>\n",
       "    </tr>\n",
       "    <tr>\n",
       "      <th>8</th>\n",
       "      <td>CatBoostRegressor</td>\n",
       "      <td>0.968100</td>\n",
       "    </tr>\n",
       "    <tr>\n",
       "      <th>5</th>\n",
       "      <td>RandomForestRegressor</td>\n",
       "      <td>0.964828</td>\n",
       "    </tr>\n",
       "    <tr>\n",
       "      <th>4</th>\n",
       "      <td>DecisionTreeRegressor</td>\n",
       "      <td>0.942816</td>\n",
       "    </tr>\n",
       "    <tr>\n",
       "      <th>7</th>\n",
       "      <td>AdaBoostRegressor</td>\n",
       "      <td>0.926226</td>\n",
       "    </tr>\n",
       "    <tr>\n",
       "      <th>2</th>\n",
       "      <td>Lasso</td>\n",
       "      <td>0.908560</td>\n",
       "    </tr>\n",
       "    <tr>\n",
       "      <th>3</th>\n",
       "      <td>KNeighborsRegressor</td>\n",
       "      <td>0.889781</td>\n",
       "    </tr>\n",
       "    <tr>\n",
       "      <th>6</th>\n",
       "      <td>SVR</td>\n",
       "      <td>0.794023</td>\n",
       "    </tr>\n",
       "  </tbody>\n",
       "</table>\n",
       "</div>"
      ]
     },
     "execution_count": 59,
     "metadata": {},
     "output_type": "execute_result"
    }
   ],
   "execution_count": 59
  },
  {
   "metadata": {},
   "cell_type": "code",
   "outputs": [],
   "execution_count": null,
   "source": "",
   "id": "4fc74d49c47987bb"
  }
 ],
 "metadata": {
  "kernelspec": {
   "display_name": "Python 3",
   "language": "python",
   "name": "python3"
  },
  "language_info": {
   "codemirror_mode": {
    "name": "ipython",
    "version": 2
   },
   "file_extension": ".py",
   "mimetype": "text/x-python",
   "name": "python",
   "nbconvert_exporter": "python",
   "pygments_lexer": "ipython2",
   "version": "2.7.6"
  }
 },
 "nbformat": 4,
 "nbformat_minor": 5
}
